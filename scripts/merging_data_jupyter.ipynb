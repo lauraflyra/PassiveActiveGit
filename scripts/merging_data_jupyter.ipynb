{
 "cells": [
  {
   "cell_type": "code",
   "execution_count": 1,
   "metadata": {},
   "outputs": [],
   "source": [
    "import numpy as np\n",
    "import pandas as pd"
   ]
  },
  {
   "cell_type": "code",
   "execution_count": 2,
   "metadata": {},
   "outputs": [],
   "source": [
    "corpus_df = pd.read_csv(\"../incomplete_corpus_data/PotsdamSearchCorpus.dat\", sep = \"\\t\")\n",
    "#testing with raw data from participant 1\n",
    "raw_data = pd.read_csv(\"../incomplete_corpus_data/asc\\SFC1_2.dat\", sep = \"\\t\", \n",
    "                       header = None, names=['time', 'x', 'y', 'pupil'])"
   ]
  },
  {
   "cell_type": "code",
   "execution_count": 3,
   "metadata": {},
   "outputs": [],
   "source": [
    "#then I have to filter in corpus_df which data is for participant 1, but later I should optimize\n",
    "#such that I import data and read from the corpus for all participants\n",
    "corpus_p1 = corpus_df[corpus_df.subject == 1]"
   ]
  },
  {
   "cell_type": "code",
   "execution_count": 4,
   "metadata": {},
   "outputs": [
    {
     "data": {
      "text/plain": [
       "\"\\noutput_df = pd.DataFrame({'column_name': column_values})  \\noutput_df.to_csv('output_file_name.dat')\\n\""
      ]
     },
     "execution_count": 4,
     "metadata": {},
     "output_type": "execute_result"
    }
   ],
   "source": [
    "#USE THIS TO WRITE DATA IN ANOTHER FILES\n",
    "\"\"\"\n",
    "output_df = pd.DataFrame({'column_name': column_values})  \n",
    "output_df.to_csv('output_file_name.dat')\n",
    "\"\"\""
   ]
  },
  {
   "cell_type": "code",
   "execution_count": 5,
   "metadata": {},
   "outputs": [],
   "source": [
    "def get_valid_times(raw_data, corpus_data):\n",
    "    \"\"\"\n",
    "    get all valid time stamps, i.e, filter the times such \n",
    "    that all times in the raw data are in between the trialstart and trialend times\n",
    "    in the corpus_data.\n",
    "    Here corpus_data corresponds to the data already filtered by participant number to match \n",
    "    the participant number from the raw_data file.\n",
    "    :param raw_data: pandas data frame with columns = =['time', 'x', 'y', 'pupil']\n",
    "    :param corpus_data: pandas data frame filtered for participant number #n\n",
    "    \n",
    "    :return: raw_data with only valid time stamps\n",
    "    \"\"\"\n",
    "    \n",
    "    n_trials = corpus_data['trialno'].iloc[-1] #get number of trials\n",
    "    intervals = np.zeros((n_trials,2))\n",
    "    for trial in range(n_trials):\n",
    "        intervals[trial,0]=corpus_data[corpus_data['trialno']==trial+1][\"trialstart\"].iloc[0]\n",
    "        intervals[trial,1]=corpus_data[corpus_data['trialno']==trial+1][\"trialend\"].iloc[0]\n",
    "        \n",
    "    ##subtract time zero \n",
    "    time_zero = corpus_data[\"trialstart\"].iloc[0]\n",
    "    raw_data['time'] -= time_zero\n",
    "    raw_data = raw_data.drop(raw_data[raw_data.time < 0].index)\n",
    "    raw_data['time'] += time_zero\n",
    "    \n",
    "    for trial in range(1,n_trials):\n",
    "        end_last = intervals[trial-1,1] #end of the last trial\n",
    "        beg_curr = intervals[trial,0] #beggining of the current trial\n",
    "        raw_data = raw_data.drop(raw_data[(raw_data.time > end_last) & (raw_data.time < beg_curr)].index)\n",
    "\n",
    "    return raw_data"
   ]
  },
  {
   "cell_type": "code",
   "execution_count": 6,
   "metadata": {},
   "outputs": [],
   "source": [
    "filtered_raw = get_valid_times(raw_data, corpus_p1)"
   ]
  },
  {
   "cell_type": "code",
   "execution_count": null,
   "metadata": {},
   "outputs": [],
   "source": []
  }
 ],
 "metadata": {
  "kernelspec": {
   "display_name": "Python 3",
   "language": "python",
   "name": "python3"
  },
  "language_info": {
   "codemirror_mode": {
    "name": "ipython",
    "version": 3
   },
   "file_extension": ".py",
   "mimetype": "text/x-python",
   "name": "python",
   "nbconvert_exporter": "python",
   "pygments_lexer": "ipython3",
   "version": "3.8.3"
  }
 },
 "nbformat": 4,
 "nbformat_minor": 4
}
